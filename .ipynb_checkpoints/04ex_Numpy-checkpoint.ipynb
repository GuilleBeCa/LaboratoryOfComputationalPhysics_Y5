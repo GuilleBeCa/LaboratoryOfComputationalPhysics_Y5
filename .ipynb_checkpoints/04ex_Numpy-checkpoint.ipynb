{
 "cells": [
  {
   "cell_type": "markdown",
   "metadata": {},
   "source": [
    "### Numpy basics"
   ]
  },
  {
   "cell_type": "code",
   "execution_count": 1,
   "metadata": {},
   "outputs": [],
   "source": [
    "import numpy as np"
   ]
  },
  {
   "cell_type": "markdown",
   "metadata": {},
   "source": [
    "1\\. Find the row, column and overall means for the following matrix:\n",
    "\n",
    "```python\n",
    "m = np.arange(12).reshape((3,4))\n",
    "```"
   ]
  },
  {
   "cell_type": "code",
   "execution_count": 2,
   "metadata": {},
   "outputs": [
    {
     "data": {
      "text/plain": [
       "array([[ 0,  1,  2,  3],\n",
       "       [ 4,  5,  6,  7],\n",
       "       [ 8,  9, 10, 11]])"
      ]
     },
     "execution_count": 2,
     "metadata": {},
     "output_type": "execute_result"
    }
   ],
   "source": [
    "m = np.arange(12).reshape((3,4))\n",
    "\n",
    "column=np.mean(m[:,0])\n",
    "row=np.mean(m[0,:])\n",
    "#0 has to be substituted by the numeber or column/row\n",
    "\n",
    "overall_mean=np.mean(m)\n",
    "m"
   ]
  },
  {
   "cell_type": "code",
   "execution_count": 3,
   "metadata": {},
   "outputs": [
    {
     "data": {
      "text/plain": [
       "(1.5, 4.0, 5.5)"
      ]
     },
     "execution_count": 3,
     "metadata": {},
     "output_type": "execute_result"
    }
   ],
   "source": [
    "row,column,overall_mean"
   ]
  },
  {
   "cell_type": "markdown",
   "metadata": {},
   "source": [
    "2\\. Find the outer product of the following two vecotrs\n",
    "\n",
    "```python\n",
    "u = np.array([1,3,5,7])\n",
    "v = np.array([2,4,6,8])\n",
    "```\n",
    "\n",
    "Do this in the following ways:\n",
    "\n",
    "   * Using the function outer in numpy\n",
    "   * Using a nested for loop or list comprehension\n",
    "   * Using numpy broadcasting operatoins\n"
   ]
  },
  {
   "cell_type": "code",
   "execution_count": 4,
   "metadata": {},
   "outputs": [],
   "source": [
    "u = np.array([1,3,5,7])\n",
    "v = np.array([2,4,6,8])"
   ]
  },
  {
   "cell_type": "code",
   "execution_count": 5,
   "metadata": {},
   "outputs": [
    {
     "data": {
      "text/plain": [
       "array([[ 2,  4,  6,  8],\n",
       "       [ 6, 12, 18, 24],\n",
       "       [10, 20, 30, 40],\n",
       "       [14, 28, 42, 56]])"
      ]
     },
     "execution_count": 5,
     "metadata": {},
     "output_type": "execute_result"
    }
   ],
   "source": [
    "first=np.outer(u,v)\n",
    "first"
   ]
  },
  {
   "cell_type": "code",
   "execution_count": 6,
   "metadata": {},
   "outputs": [
    {
     "data": {
      "text/plain": [
       "array([[ 2.,  4.,  6.,  8.],\n",
       "       [ 6., 12., 18., 24.],\n",
       "       [10., 20., 30., 40.],\n",
       "       [14., 28., 42., 56.]])"
      ]
     },
     "execution_count": 6,
     "metadata": {},
     "output_type": "execute_result"
    }
   ],
   "source": [
    "second=np.zeros((len(u),len(v)))\n",
    "for i in range(len(u)):\n",
    "    for j in range(len(v)):\n",
    "        second[i,j]=u[i]*v[j]\n",
    "second"
   ]
  },
  {
   "cell_type": "code",
   "execution_count": 7,
   "metadata": {},
   "outputs": [
    {
     "data": {
      "text/plain": [
       "array([[ 2,  4,  6,  8],\n",
       "       [ 6, 12, 18, 24],\n",
       "       [10, 20, 30, 40],\n",
       "       [14, 28, 42, 56]])"
      ]
     },
     "execution_count": 7,
     "metadata": {},
     "output_type": "execute_result"
    }
   ],
   "source": [
    "v_=v.reshape(1,len(v))\n",
    "u_=u.reshape(len(u),1)\n",
    "\n",
    "third=u_*v_\n",
    "third\n"
   ]
  },
  {
   "cell_type": "markdown",
   "metadata": {},
   "source": [
    "3\\. Create a 10 by 6 matrix of random uniform numbers. Set all rows with any entry less than 0.1 to be zero\n",
    "\n",
    "Hint: Use the following numpy functions - np.random.random, np.any as well as Boolean indexing and the axis argument."
   ]
  },
  {
   "cell_type": "code",
   "execution_count": 8,
   "metadata": {},
   "outputs": [
    {
     "data": {
      "text/plain": [
       "array([[0.56940932, 0.40064909, 0.48592302, 0.50939871, 0.58721277,\n",
       "        0.17655604],\n",
       "       [0.94500028, 0.02499519, 0.02444219, 0.97558197, 0.00442066,\n",
       "        0.79507458],\n",
       "       [0.74399515, 0.48607458, 0.0730363 , 0.54778948, 0.39960404,\n",
       "        0.06664955],\n",
       "       [0.14375708, 0.69070385, 0.35383619, 0.11708937, 0.35313908,\n",
       "        0.36409934],\n",
       "       [0.98365218, 0.48585978, 0.86587932, 0.23714225, 0.83689484,\n",
       "        0.44570853],\n",
       "       [0.99400569, 0.12921857, 0.13741202, 0.63744134, 0.20650926,\n",
       "        0.27769625],\n",
       "       [0.81658291, 0.81283837, 0.12998124, 0.59289145, 0.10506937,\n",
       "        0.25409113],\n",
       "       [0.49271104, 0.41581592, 0.38674016, 0.55208066, 0.65665433,\n",
       "        0.89691113],\n",
       "       [0.49329974, 0.93045613, 0.32438419, 0.82486444, 0.71302786,\n",
       "        0.19161829],\n",
       "       [0.05708276, 0.27864461, 0.99996912, 0.18970361, 0.99399816,\n",
       "        0.14676443]])"
      ]
     },
     "execution_count": 8,
     "metadata": {},
     "output_type": "execute_result"
    }
   ],
   "source": [
    "a=np.random.random(6*10).reshape(10,6)\n",
    "a"
   ]
  },
  {
   "cell_type": "code",
   "execution_count": 9,
   "metadata": {},
   "outputs": [
    {
     "data": {
      "text/plain": [
       "array([[ True,  True,  True,  True,  True,  True],\n",
       "       [ True, False, False,  True, False,  True],\n",
       "       [ True,  True, False,  True,  True, False],\n",
       "       [ True,  True,  True,  True,  True,  True],\n",
       "       [ True,  True,  True,  True,  True,  True],\n",
       "       [ True,  True,  True,  True,  True,  True],\n",
       "       [ True,  True,  True,  True,  True,  True],\n",
       "       [ True,  True,  True,  True,  True,  True],\n",
       "       [ True,  True,  True,  True,  True,  True],\n",
       "       [False,  True,  True,  True,  True,  True]])"
      ]
     },
     "execution_count": 9,
     "metadata": {},
     "output_type": "execute_result"
    }
   ],
   "source": [
    "cond=a>0.1\n",
    "cond"
   ]
  },
  {
   "cell_type": "code",
   "execution_count": 10,
   "metadata": {},
   "outputs": [
    {
     "data": {
      "text/plain": [
       "array([ True, False, False,  True,  True,  True,  True,  True,  True,\n",
       "       False])"
      ]
     },
     "execution_count": 10,
     "metadata": {},
     "output_type": "execute_result"
    }
   ],
   "source": [
    "np.all(cond,axis=1)"
   ]
  },
  {
   "cell_type": "code",
   "execution_count": 11,
   "metadata": {},
   "outputs": [
    {
     "data": {
      "text/plain": [
       "array([[0.56940932, 0.40064909, 0.48592302, 0.50939871, 0.58721277,\n",
       "        0.17655604],\n",
       "       [0.        , 0.        , 0.        , 0.        , 0.        ,\n",
       "        0.        ],\n",
       "       [0.        , 0.        , 0.        , 0.        , 0.        ,\n",
       "        0.        ],\n",
       "       [0.14375708, 0.69070385, 0.35383619, 0.11708937, 0.35313908,\n",
       "        0.36409934],\n",
       "       [0.98365218, 0.48585978, 0.86587932, 0.23714225, 0.83689484,\n",
       "        0.44570853],\n",
       "       [0.99400569, 0.12921857, 0.13741202, 0.63744134, 0.20650926,\n",
       "        0.27769625],\n",
       "       [0.81658291, 0.81283837, 0.12998124, 0.59289145, 0.10506937,\n",
       "        0.25409113],\n",
       "       [0.49271104, 0.41581592, 0.38674016, 0.55208066, 0.65665433,\n",
       "        0.89691113],\n",
       "       [0.49329974, 0.93045613, 0.32438419, 0.82486444, 0.71302786,\n",
       "        0.19161829],\n",
       "       [0.        , 0.        , 0.        , 0.        , 0.        ,\n",
       "        0.        ]])"
      ]
     },
     "execution_count": 11,
     "metadata": {},
     "output_type": "execute_result"
    }
   ],
   "source": [
    "for i in range(10):\n",
    "\n",
    "    if np.all(cond,axis=1)[i]==False:\n",
    "        a[i,:]=[0]*6\n",
    "a"
   ]
  },
  {
   "cell_type": "code",
   "execution_count": null,
   "metadata": {},
   "outputs": [],
   "source": []
  },
  {
   "cell_type": "markdown",
   "metadata": {},
   "source": [
    "4\\. Use np.linspace to create an array of 100 numbers between 0 and 2π (includsive).\n",
    "\n",
    "  * Extract every 10th element using slice notation\n",
    "  * Reverse the array using slice notation\n",
    "  * Extract elements where the absolute difference between the sine and cosine functions evaluated at that element is less than 0.1\n",
    "  * Make a plot showing the sin and cos functions and indicate where they are close"
   ]
  },
  {
   "cell_type": "code",
   "execution_count": 12,
   "metadata": {},
   "outputs": [
    {
     "data": {
      "text/plain": [
       "array([0.        , 0.06346652, 0.12693304, 0.19039955, 0.25386607,\n",
       "       0.31733259, 0.38079911, 0.44426563, 0.50773215, 0.57119866,\n",
       "       0.63466518, 0.6981317 , 0.76159822, 0.82506474, 0.88853126,\n",
       "       0.95199777, 1.01546429, 1.07893081, 1.14239733, 1.20586385,\n",
       "       1.26933037, 1.33279688, 1.3962634 , 1.45972992, 1.52319644,\n",
       "       1.58666296, 1.65012947, 1.71359599, 1.77706251, 1.84052903,\n",
       "       1.90399555, 1.96746207, 2.03092858, 2.0943951 , 2.15786162,\n",
       "       2.22132814, 2.28479466, 2.34826118, 2.41172769, 2.47519421,\n",
       "       2.53866073, 2.60212725, 2.66559377, 2.72906028, 2.7925268 ,\n",
       "       2.85599332, 2.91945984, 2.98292636, 3.04639288, 3.10985939,\n",
       "       3.17332591, 3.23679243, 3.30025895, 3.36372547, 3.42719199,\n",
       "       3.4906585 , 3.55412502, 3.61759154, 3.68105806, 3.74452458,\n",
       "       3.8079911 , 3.87145761, 3.93492413, 3.99839065, 4.06185717,\n",
       "       4.12532369, 4.1887902 , 4.25225672, 4.31572324, 4.37918976,\n",
       "       4.44265628, 4.5061228 , 4.56958931, 4.63305583, 4.69652235,\n",
       "       4.75998887, 4.82345539, 4.88692191, 4.95038842, 5.01385494,\n",
       "       5.07732146, 5.14078798, 5.2042545 , 5.26772102, 5.33118753,\n",
       "       5.39465405, 5.45812057, 5.52158709, 5.58505361, 5.64852012,\n",
       "       5.71198664, 5.77545316, 5.83891968, 5.9023862 , 5.96585272,\n",
       "       6.02931923, 6.09278575, 6.15625227, 6.21971879, 6.28318531])"
      ]
     },
     "execution_count": 12,
     "metadata": {},
     "output_type": "execute_result"
    }
   ],
   "source": [
    "b=np.linspace(0,2*np.pi,100)\n",
    "b\n"
   ]
  },
  {
   "cell_type": "code",
   "execution_count": 13,
   "metadata": {},
   "outputs": [
    {
     "data": {
      "text/plain": [
       "array([6.28318531, 6.21971879, 6.15625227, 6.09278575, 6.02931923,\n",
       "       5.96585272, 5.9023862 , 5.83891968, 5.77545316, 5.71198664,\n",
       "       5.64852012, 5.58505361, 5.52158709, 5.45812057, 5.39465405,\n",
       "       5.33118753, 5.26772102, 5.2042545 , 5.14078798, 5.07732146,\n",
       "       5.01385494, 4.95038842, 4.88692191, 4.82345539, 4.75998887,\n",
       "       4.69652235, 4.63305583, 4.56958931, 4.5061228 , 4.44265628,\n",
       "       4.37918976, 4.31572324, 4.25225672, 4.1887902 , 4.12532369,\n",
       "       4.06185717, 3.99839065, 3.93492413, 3.87145761, 3.8079911 ,\n",
       "       3.74452458, 3.68105806, 3.61759154, 3.55412502, 3.4906585 ,\n",
       "       3.42719199, 3.36372547, 3.30025895, 3.23679243, 3.17332591,\n",
       "       3.10985939, 3.04639288, 2.98292636, 2.91945984, 2.85599332,\n",
       "       2.7925268 , 2.72906028, 2.66559377, 2.60212725, 2.53866073,\n",
       "       2.47519421, 2.41172769, 2.34826118, 2.28479466, 2.22132814,\n",
       "       2.15786162, 2.0943951 , 2.03092858, 1.96746207, 1.90399555,\n",
       "       1.84052903, 1.77706251, 1.71359599, 1.65012947, 1.58666296,\n",
       "       1.52319644, 1.45972992, 1.3962634 , 1.33279688, 1.26933037,\n",
       "       1.20586385, 1.14239733, 1.07893081, 1.01546429, 0.95199777,\n",
       "       0.88853126, 0.82506474, 0.76159822, 0.6981317 , 0.63466518,\n",
       "       0.57119866, 0.50773215, 0.44426563, 0.38079911, 0.31733259,\n",
       "       0.25386607, 0.19039955, 0.12693304, 0.06346652, 0.        ])"
      ]
     },
     "execution_count": 13,
     "metadata": {},
     "output_type": "execute_result"
    }
   ],
   "source": [
    "reverse=b[::-1]\n",
    "reverse"
   ]
  },
  {
   "cell_type": "code",
   "execution_count": null,
   "metadata": {},
   "outputs": [],
   "source": []
  },
  {
   "cell_type": "code",
   "execution_count": 14,
   "metadata": {},
   "outputs": [
    {
     "data": {
      "text/plain": [
       "array([0.76159822, 0.82506474, 3.87145761, 3.93492413])"
      ]
     },
     "execution_count": 14,
     "metadata": {},
     "output_type": "execute_result"
    }
   ],
   "source": [
    "b_2=b[(abs(np.sin(b)-np.cos(b))<0.1) ]\n",
    "b_2"
   ]
  },
  {
   "cell_type": "code",
   "execution_count": null,
   "metadata": {},
   "outputs": [],
   "source": []
  },
  {
   "cell_type": "code",
   "execution_count": null,
   "metadata": {},
   "outputs": [],
   "source": []
  },
  {
   "cell_type": "markdown",
   "metadata": {},
   "source": [
    "5\\. Create a matrix that shows the 10 by 10 multiplication table.\n",
    "\n",
    " * Find the trace of the matrix\n",
    " * Extract the anto-diagonal (this should be ```array([10, 18, 24, 28, 30, 30, 28, 24, 18, 10])```)\n",
    " * Extract the diagnoal offset by 1 upwards (this should be ```array([ 2,  6, 12, 20, 30, 42, 56, 72, 90])```)"
   ]
  },
  {
   "cell_type": "code",
   "execution_count": 15,
   "metadata": {},
   "outputs": [
    {
     "data": {
      "text/plain": [
       "array([[  1.,   2.,   3.,   4.,   5.,   6.,   7.,   8.,   9.,  10.],\n",
       "       [  2.,   4.,   6.,   8.,  10.,  12.,  14.,  16.,  18.,  20.],\n",
       "       [  3.,   6.,   9.,  12.,  15.,  18.,  21.,  24.,  27.,  30.],\n",
       "       [  4.,   8.,  12.,  16.,  20.,  24.,  28.,  32.,  36.,  40.],\n",
       "       [  5.,  10.,  15.,  20.,  25.,  30.,  35.,  40.,  45.,  50.],\n",
       "       [  6.,  12.,  18.,  24.,  30.,  36.,  42.,  48.,  54.,  60.],\n",
       "       [  7.,  14.,  21.,  28.,  35.,  42.,  49.,  56.,  63.,  70.],\n",
       "       [  8.,  16.,  24.,  32.,  40.,  48.,  56.,  64.,  72.,  80.],\n",
       "       [  9.,  18.,  27.,  36.,  45.,  54.,  63.,  72.,  81.,  90.],\n",
       "       [ 10.,  20.,  30.,  40.,  50.,  60.,  70.,  80.,  90., 100.]])"
      ]
     },
     "execution_count": 15,
     "metadata": {},
     "output_type": "execute_result"
    }
   ],
   "source": [
    "c=np.zeros((10,10))\n",
    "for i in range(10):\n",
    "    for j in range(10):\n",
    "        c[i,j]=(i+1)*(j+1)\n",
    "c"
   ]
  },
  {
   "cell_type": "code",
   "execution_count": 16,
   "metadata": {},
   "outputs": [
    {
     "data": {
      "text/plain": [
       "385.0"
      ]
     },
     "execution_count": 16,
     "metadata": {},
     "output_type": "execute_result"
    }
   ],
   "source": [
    "np.trace(c)"
   ]
  },
  {
   "cell_type": "code",
   "execution_count": 24,
   "metadata": {},
   "outputs": [
    {
     "data": {
      "text/plain": [
       "[10.0, 18.0, 24.0, 28.0, 30.0, 30.0, 28.0, 24.0, 18.0, 10.0]"
      ]
     },
     "execution_count": 24,
     "metadata": {},
     "output_type": "execute_result"
    }
   ],
   "source": [
    "anto_diag=[0]*10\n",
    "for i in range(10):\n",
    "         anto_diag[i]=c[i,9-i]\n",
    "\n",
    "anto_diag\n",
    "\n",
    "    "
   ]
  },
  {
   "cell_type": "code",
   "execution_count": 33,
   "metadata": {},
   "outputs": [
    {
     "data": {
      "text/plain": [
       "[2.0, 6.0, 12.0, 20.0, 30.0, 42.0, 56.0, 72.0]"
      ]
     },
     "execution_count": 33,
     "metadata": {},
     "output_type": "execute_result"
    }
   ],
   "source": [
    "up_diag=[0]*8\n",
    "for i in range(8):\n",
    "         up_diag[i]=c[i,i+1]\n",
    "\n",
    "up_diag\n",
    "\n",
    "    "
   ]
  },
  {
   "cell_type": "markdown",
   "metadata": {},
   "source": [
    "6\\. Use broadcasting to create a grid of distances\n",
    "\n",
    "Route 66 crosses the following cities in the US: Chicago, Springfield, Saint-Louis, Tulsa, Oklahoma City, Amarillo, Santa Fe, Albuquerque, Flagstaff, Los Angeles\n",
    "The corresponding positions in miles are: 0, 198, 303, 736, 871, 1175, 1475, 1544, 1913, 2448\n",
    "\n",
    "  * Construct a 2D grid of distances among each city along Route 66\n",
    "  * Convert that in km (those savages...)"
   ]
  },
  {
   "cell_type": "code",
   "execution_count": 34,
   "metadata": {},
   "outputs": [],
   "source": [
    "dist=[0, 198, 303, 736, 871, 1175, 1475, 1544, 1913, 2448]"
   ]
  },
  {
   "cell_type": "code",
   "execution_count": 35,
   "metadata": {},
   "outputs": [
    {
     "data": {
      "text/plain": [
       "array([[    0.,  -198.,  -303.,  -736.,  -871., -1175., -1475., -1544.,\n",
       "        -1913., -2448.],\n",
       "       [  198.,     0.,  -105.,  -538.,  -673.,  -977., -1277., -1346.,\n",
       "        -1715., -2250.],\n",
       "       [  303.,   105.,     0.,  -433.,  -568.,  -872., -1172., -1241.,\n",
       "        -1610., -2145.],\n",
       "       [  736.,   538.,   433.,     0.,  -135.,  -439.,  -739.,  -808.,\n",
       "        -1177., -1712.],\n",
       "       [  871.,   673.,   568.,   135.,     0.,  -304.,  -604.,  -673.,\n",
       "        -1042., -1577.],\n",
       "       [ 1175.,   977.,   872.,   439.,   304.,     0.,  -300.,  -369.,\n",
       "         -738., -1273.],\n",
       "       [ 1475.,  1277.,  1172.,   739.,   604.,   300.,     0.,   -69.,\n",
       "         -438.,  -973.],\n",
       "       [ 1544.,  1346.,  1241.,   808.,   673.,   369.,    69.,     0.,\n",
       "         -369.,  -904.],\n",
       "       [ 1913.,  1715.,  1610.,  1177.,  1042.,   738.,   438.,   369.,\n",
       "            0.,  -535.],\n",
       "       [ 2448.,  2250.,  2145.,  1712.,  1577.,  1273.,   973.,   904.,\n",
       "          535.,     0.]])"
      ]
     },
     "execution_count": 35,
     "metadata": {},
     "output_type": "execute_result"
    }
   ],
   "source": [
    "dim=len(dist)\n",
    "grid=np.zeros((dim,dim))\n",
    "for i in range(dim):\n",
    "    for j in range(dim):\n",
    "        grid[i,j]=dist[i]-dist[j]\n",
    "\n",
    "grid"
   ]
  },
  {
   "cell_type": "code",
   "execution_count": 37,
   "metadata": {},
   "outputs": [
    {
     "data": {
      "text/plain": [
       "array([[    0. ,  -316.8,  -484.8, -1177.6, -1393.6, -1880. , -2360. ,\n",
       "        -2470.4, -3060.8, -3916.8],\n",
       "       [  316.8,     0. ,  -168. ,  -860.8, -1076.8, -1563.2, -2043.2,\n",
       "        -2153.6, -2744. , -3600. ],\n",
       "       [  484.8,   168. ,     0. ,  -692.8,  -908.8, -1395.2, -1875.2,\n",
       "        -1985.6, -2576. , -3432. ],\n",
       "       [ 1177.6,   860.8,   692.8,     0. ,  -216. ,  -702.4, -1182.4,\n",
       "        -1292.8, -1883.2, -2739.2],\n",
       "       [ 1393.6,  1076.8,   908.8,   216. ,     0. ,  -486.4,  -966.4,\n",
       "        -1076.8, -1667.2, -2523.2],\n",
       "       [ 1880. ,  1563.2,  1395.2,   702.4,   486.4,     0. ,  -480. ,\n",
       "         -590.4, -1180.8, -2036.8],\n",
       "       [ 2360. ,  2043.2,  1875.2,  1182.4,   966.4,   480. ,     0. ,\n",
       "         -110.4,  -700.8, -1556.8],\n",
       "       [ 2470.4,  2153.6,  1985.6,  1292.8,  1076.8,   590.4,   110.4,\n",
       "            0. ,  -590.4, -1446.4],\n",
       "       [ 3060.8,  2744. ,  2576. ,  1883.2,  1667.2,  1180.8,   700.8,\n",
       "          590.4,     0. ,  -856. ],\n",
       "       [ 3916.8,  3600. ,  3432. ,  2739.2,  2523.2,  2036.8,  1556.8,\n",
       "         1446.4,   856. ,     0. ]])"
      ]
     },
     "execution_count": 37,
     "metadata": {},
     "output_type": "execute_result"
    }
   ],
   "source": [
    "grid_km=grid*1.6\n",
    "grid_km"
   ]
  },
  {
   "cell_type": "markdown",
   "metadata": {},
   "source": [
    "7\\. Prime numbers sieve: compute the prime numbers in the 0-N (N=99 to start with) range with a sieve (mask).\n",
    "  * Constract a shape (100,) boolean array, the mask\n",
    "  * Identify the multiples of each number starting from 2 and set accordingly the corresponding mask element\n",
    "  * Apply the mask to obtain an array of ordered prime numbers\n",
    "  * Check the performances (timeit); how does it scale with N?\n",
    "  * Implement the optimization suggested in the [sieve of Eratosthenes](https://en.wikipedia.org/wiki/Sieve_of_Eratosthenes)"
   ]
  },
  {
   "cell_type": "code",
   "execution_count": 174,
   "metadata": {},
   "outputs": [],
   "source": [
    "def find_primes_long(top):\n",
    "    maxi=top+1\n",
    "    mask=np.array([True]*maxi)\n",
    "    \n",
    "    p=2\n",
    "\n",
    "    while p*p<maxi:\n",
    "        mult=np.arange(p,maxi,p)\n",
    "        mask[mult[1:]]=False\n",
    "        p=p+1\n",
    "        \n",
    "    primes_=np.array(np.where(True==mask)[0])\n",
    "    primes=np.delete(primes_,1)\n",
    "    return(primes)"
   ]
  },
  {
   "cell_type": "code",
   "execution_count": 175,
   "metadata": {},
   "outputs": [],
   "source": [
    "def find_primes(top):\n",
    "    maxi=top+1\n",
    "    mask=np.array([True]*maxi)\n",
    "    \n",
    "    p=2\n",
    "    \n",
    "    while p*p<maxi:\n",
    "        if mask[p]==True:\n",
    "            mult=np.arange(p,maxi,p)\n",
    "            mask[mult[1:]]=False\n",
    "        p=p+1\n",
    "    primes_=np.array(np.where(True==mask)[0])\n",
    "    primes=np.delete(primes_,1)\n",
    "    return(primes)"
   ]
  },
  {
   "cell_type": "code",
   "execution_count": 177,
   "metadata": {},
   "outputs": [
    {
     "data": {
      "text/plain": [
       "array([ 0,  2,  3,  5,  7, 11, 13, 17, 19, 23, 29, 31, 37, 41, 43, 47, 53,\n",
       "       59, 61, 67, 71, 73, 79, 83, 89, 97])"
      ]
     },
     "execution_count": 177,
     "metadata": {},
     "output_type": "execute_result"
    }
   ],
   "source": [
    "find_primes_long(99)"
   ]
  },
  {
   "cell_type": "code",
   "execution_count": 178,
   "metadata": {},
   "outputs": [
    {
     "data": {
      "text/plain": [
       "array([ 0,  2,  3,  5,  7, 11, 13, 17, 19, 23, 29, 31, 37, 41, 43, 47, 53,\n",
       "       59, 61, 67, 71, 73, 79, 83, 89, 97])"
      ]
     },
     "execution_count": 178,
     "metadata": {},
     "output_type": "execute_result"
    }
   ],
   "source": [
    "find_primes(99)"
   ]
  },
  {
   "cell_type": "code",
   "execution_count": 179,
   "metadata": {},
   "outputs": [
    {
     "name": "stdout",
     "output_type": "stream",
     "text": [
      "25.6 µs ± 2.03 µs per loop (mean ± std. dev. of 7 runs, 10,000 loops each)\n"
     ]
    }
   ],
   "source": [
    "%timeit find_primes_long(99)"
   ]
  },
  {
   "cell_type": "code",
   "execution_count": 180,
   "metadata": {},
   "outputs": [
    {
     "name": "stdout",
     "output_type": "stream",
     "text": [
      "27.5 µs ± 1.32 µs per loop (mean ± std. dev. of 7 runs, 10,000 loops each)\n"
     ]
    }
   ],
   "source": [
    "%timeit find_primes(99)"
   ]
  },
  {
   "cell_type": "markdown",
   "metadata": {},
   "source": [
    "**N.B. the following exercises are meant to be solved only if you are familiar with the numpy random library. If not you can skip them (postponed for one of the next exercise sessions)**\n"
   ]
  },
  {
   "cell_type": "markdown",
   "metadata": {},
   "source": [
    "8\\. Diffusion using random walk\n",
    "\n",
    "Consider a simple random walk process: at each step in time, a walker jumps right or left (+1 or -1) with equal probability. The goal is to find the typical distance from the origin of a random walker after a given amount of time. \n",
    "To do that, let's simulate many walkers and create a 2D array with each walker as a raw and the actual time evolution as columns\n",
    "\n",
    "  * Take 1000 walkers and let them walk for 200 steps\n",
    "  * Use randint to create a 2D array of size walkers x steps with values -1 or 1\n",
    "  * Build the actual walking distances for each walker (i.e. another 2D array \"summing on each raw\")\n",
    "  * Take the square of that 2D array (elementwise)\n",
    "  * Compute the mean of the squared distances at each step (i.e. the mean along the columns)\n",
    "  * Plot the average distances (sqrt(distance\\*\\*2)) as a function of time (step)\n",
    "  \n",
    "Did you get what you expected?"
   ]
  },
  {
   "cell_type": "code",
   "execution_count": 227,
   "metadata": {},
   "outputs": [],
   "source": [
    "import matplotlib.pyplot as plt"
   ]
  },
  {
   "cell_type": "code",
   "execution_count": 235,
   "metadata": {},
   "outputs": [
    {
     "data": {
      "text/plain": [
       "[<matplotlib.lines.Line2D at 0x7fcc25004ee0>]"
      ]
     },
     "execution_count": 235,
     "metadata": {},
     "output_type": "execute_result"
    },
    {
     "data": {
      "image/png": "[encoded data removed]",
      "text/plain": [
       "<Figure size 432x288 with 1 Axes>"
      ]
     },
     "metadata": {
      "needs_background": "light"
     },
     "output_type": "display_data"
    }
   ],
   "source": [
    "num_step=20000\n",
    "grid=np.zeros((1000,num_step))\n",
    "\n",
    "for i in range(1000):\n",
    "    steps=np.random.randint(1,3,num_step)\n",
    "    steps[steps==2]=-1\n",
    "    grid[i,:]=steps\n",
    "#print(grid)\n",
    "\n",
    "\n",
    "dists=np.cumsum(grid,axis=1)\n",
    "#print(dists)\n",
    "\n",
    "dists_2=dists**2\n",
    "#print(dists_2)\n",
    "\n",
    "mean=np.mean(dists_2,0)\n",
    "#print(mean)\n",
    "\n",
    "plt.plot(np.sqrt(mean))\n"
   ]
  },
  {
   "cell_type": "markdown",
   "metadata": {},
   "source": [
    "yes, it is the standar deviation (sqrt(number of steps taken))"
   ]
  },
  {
   "cell_type": "markdown",
   "metadata": {},
   "source": [
    "9\\. Analyze a data file \n",
    "  * Download the population of hares, lynxes and carrots at the beginning of the last century.\n",
    "    ```python\n",
    "    ! wget https://www.dropbox.com/s/3vigxoqayo389uc/populations.txt\n",
    "    ```\n",
    "\n",
    "  * Check the content by looking within the file\n",
    "  * Load the data (use an appropriate numpy method) into a 2D array\n",
    "  * Create arrays out of the columns, the arrays being (in order): *year*, *hares*, *lynxes*, *carrots* \n",
    "  * Plot the 3 populations over the years\n",
    "  * Compute the main statistical properties of the dataset (mean, std, correlations, etc.)\n",
    "  * Which species has the highest population each year?\n",
    "\n",
    "Do you feel there is some evident correlation here? [Studies](https://www.enr.gov.nt.ca/en/services/lynx/lynx-snowshoe-hare-cycle) tend to believe so."
   ]
  },
  {
   "cell_type": "code",
   "execution_count": 234,
   "metadata": {},
   "outputs": [
    {
     "name": "stdout",
     "output_type": "stream",
     "text": [
      "--2022-12-10 13:52:40--  https://www.dropbox.com/s/3vigxoqayo389uc/populations.txt\n",
      "Resolving www.dropbox.com (www.dropbox.com)... 162.125.69.18, 198.51.44.6, 198.51.45.6, ...\n",
      "Connecting to www.dropbox.com (www.dropbox.com)|162.125.69.18|:443... connected.\n",
      "HTTP request sent, awaiting response... 302 Found\n",
      "Location: /s/raw/3vigxoqayo389uc/populations.txt [following]\n",
      "--2022-12-10 13:52:40--  https://www.dropbox.com/s/raw/3vigxoqayo389uc/populations.txt\n",
      "Reusing existing connection to www.dropbox.com:443.\n",
      "HTTP request sent, awaiting response... 302 Found\n",
      "Location: https://uccffeb65ef8c5f6db0bbfe5cd48.dl.dropboxusercontent.com/cd/0/inline/ByXSqRm4SthoRgI_dZMzUDr8yifqQfzx0rhq7Z84IkUUFO5tfmyRmJL-pdMnWseywsIWUYIIuWf3-i2YSfCyLbMc8nZqXkjBUcQCkSYoYzKLkpuSkqzZk3q6FcUpngOzLdp22hZJcGP5Vs7skl3UZ8OLVGK7-QcoUCv_csVjjmCsKg/file# [following]\n",
      "--2022-12-10 13:52:41--  https://uccffeb65ef8c5f6db0bbfe5cd48.dl.dropboxusercontent.com/cd/0/inline/ByXSqRm4SthoRgI_dZMzUDr8yifqQfzx0rhq7Z84IkUUFO5tfmyRmJL-pdMnWseywsIWUYIIuWf3-i2YSfCyLbMc8nZqXkjBUcQCkSYoYzKLkpuSkqzZk3q6FcUpngOzLdp22hZJcGP5Vs7skl3UZ8OLVGK7-QcoUCv_csVjjmCsKg/file\n",
      "Resolving uccffeb65ef8c5f6db0bbfe5cd48.dl.dropboxusercontent.com (uccffeb65ef8c5f6db0bbfe5cd48.dl.dropboxusercontent.com)... 162.125.69.15, 198.51.44.6, 198.51.45.6, ...\n",
      "Connecting to uccffeb65ef8c5f6db0bbfe5cd48.dl.dropboxusercontent.com (uccffeb65ef8c5f6db0bbfe5cd48.dl.dropboxusercontent.com)|162.125.69.15|:443... connected.\n",
      "HTTP request sent, awaiting response... 200 OK\n",
      "Length: 525 [text/plain]\n",
      "Saving to: ‘populations.txt.1’\n",
      "\n",
      "populations.txt.1   100%[===================>]     525  --.-KB/s    in 0s      \n",
      "\n",
      "2022-12-10 13:52:42 (21.4 MB/s) - ‘populations.txt.1’ saved [525/525]\n",
      "\n"
     ]
    }
   ],
   "source": [
    "! wget https://www.dropbox.com/s/3vigxoqayo389uc/populations.txt"
   ]
  },
  {
   "cell_type": "code",
   "execution_count": 244,
   "metadata": {},
   "outputs": [],
   "source": [
    "data=np.loadtxt('populations.txt.1')"
   ]
  },
  {
   "cell_type": "code",
   "execution_count": 250,
   "metadata": {},
   "outputs": [
    {
     "data": {
      "text/plain": [
       "array([[ 1900., 30000.,  4000., 48300.],\n",
       "       [ 1901., 47200.,  6100., 48200.],\n",
       "       [ 1902., 70200.,  9800., 41500.],\n",
       "       [ 1903., 77400., 35200., 38200.],\n",
       "       [ 1904., 36300., 59400., 40600.],\n",
       "       [ 1905., 20600., 41700., 39800.],\n",
       "       [ 1906., 18100., 19000., 38600.],\n",
       "       [ 1907., 21400., 13000., 42300.],\n",
       "       [ 1908., 22000.,  8300., 44500.],\n",
       "       [ 1909., 25400.,  9100., 42100.],\n",
       "       [ 1910., 27100.,  7400., 46000.],\n",
       "       [ 1911., 40300.,  8000., 46800.],\n",
       "       [ 1912., 57000., 12300., 43800.],\n",
       "       [ 1913., 76600., 19500., 40900.],\n",
       "       [ 1914., 52300., 45700., 39400.],\n",
       "       [ 1915., 19500., 51100., 39000.],\n",
       "       [ 1916., 11200., 29700., 36700.],\n",
       "       [ 1917.,  7600., 15800., 41800.],\n",
       "       [ 1918., 14600.,  9700., 43300.],\n",
       "       [ 1919., 16200., 10100., 41300.],\n",
       "       [ 1920., 24700.,  8600., 47300.]])"
      ]
     },
     "execution_count": 250,
     "metadata": {},
     "output_type": "execute_result"
    }
   ],
   "source": [
    "data"
   ]
  },
  {
   "cell_type": "code",
   "execution_count": 257,
   "metadata": {},
   "outputs": [],
   "source": [
    "years=data[:,0]\n",
    "hares=data[:,1]\n",
    "lynxes=data[:,2]\n",
    "carrots=data[:,3]\n"
   ]
  },
  {
   "cell_type": "code",
   "execution_count": 285,
   "metadata": {},
   "outputs": [
    {
     "data": {
      "image/png": "[encoded data removed]",
      "text/plain": [
       "<Figure size 432x288 with 1 Axes>"
      ]
     },
     "metadata": {
      "needs_background": "light"
     },
     "output_type": "display_data"
    }
   ],
   "source": [
    "\n",
    "plt.plot(years, hares,label='Hares')\n",
    "plt.plot(years,lynxes,label='Lynxes')\n",
    "plt.plot(years,carrots,label='Carrots')\n",
    "\n",
    "plt.legend()\n",
    "plt.show()\n"
   ]
  },
  {
   "cell_type": "code",
   "execution_count": 289,
   "metadata": {},
   "outputs": [
    {
     "name": "stdout",
     "output_type": "stream",
     "text": [
      "Mean hares 34080.95238095238\n",
      "Std hares 20897.906458089667\n",
      "Mean lynxes 20166.666666666668\n",
      "Std lynxes 16254.591536908763\n",
      "Mean carrots 42400.0\n",
      "Std carrots 3322.5062255844787\n"
     ]
    }
   ],
   "source": [
    "print('Mean hares',np.mean(hares))\n",
    "print('Std hares',np.std(hares))\n",
    "\n",
    "print('Mean lynxes',np.mean(lynxes))\n",
    "print('Std lynxes',np.std(lynxes))\n",
    "\n",
    "print('Mean carrots',np.mean(carrots))\n",
    "print('Std carrots',np.std(carrots))"
   ]
  },
  {
   "cell_type": "code",
   "execution_count": 291,
   "metadata": {},
   "outputs": [
    {
     "name": "stdout",
     "output_type": "stream",
     "text": [
      "correlation hares-lynxes [1.494612e+10]\n",
      "correlation hares-carrots [3.032147e+10]\n",
      "correlation carrots-lynxes [1.718454e+10]\n"
     ]
    }
   ],
   "source": [
    "print('correlation hares-lynxes',np.correlate(hares,lynxes))\n",
    "print('correlation hares-carrots',np.correlate(hares,carrots))\n",
    "print('correlation carrots-lynxes',np.correlate(carrots,lynxes))\n"
   ]
  },
  {
   "cell_type": "code",
   "execution_count": 287,
   "metadata": {},
   "outputs": [
    {
     "name": "stdout",
     "output_type": "stream",
     "text": [
      "year 1900.0 Carrots 48300.0\n",
      "year 1901.0 Carrots 48200.0\n",
      "year 1902.0 Hares 70200.0\n",
      "year 1903.0 Hares 77400.0\n",
      "year 1904.0 Lynxes 59400.0\n",
      "year 1905.0 Lynxes 41700.0\n",
      "year 1906.0 Carrots 38600.0\n",
      "year 1907.0 Carrots 42300.0\n",
      "year 1908.0 Carrots 44500.0\n",
      "year 1909.0 Carrots 42100.0\n",
      "year 1910.0 Carrots 46000.0\n",
      "year 1911.0 Carrots 46800.0\n",
      "year 1912.0 Hares 57000.0\n",
      "year 1913.0 Hares 76600.0\n",
      "year 1914.0 Hares 52300.0\n",
      "year 1915.0 Lynxes 51100.0\n",
      "year 1916.0 Carrots 36700.0\n",
      "year 1917.0 Carrots 41800.0\n",
      "year 1918.0 Carrots 43300.0\n",
      "year 1919.0 Carrots 41300.0\n",
      "year 1920.0 Carrots 47300.0\n"
     ]
    }
   ],
   "source": [
    "for i in range(len(years)):\n",
    "    if max(hares[i],lynxes[i],carrots[i])==hares[i]:\n",
    "\n",
    "        print('year', years[i], 'Hares', hares[i])\n",
    "    elif max(hares[i],lynxes[i],carrots[i])==lynxes[i]:\n",
    "        print('year', years[i], 'Lynxes', lynxes[i])\n",
    "    else:\n",
    "        print('year', years[i], 'Carrots', carrots[i])"
   ]
  },
  {
   "cell_type": "code",
   "execution_count": null,
   "metadata": {},
   "outputs": [],
   "source": [
    "    "
   ]
  }
 ],
 "metadata": {
  "kernelspec": {
   "display_name": "Python 3 (ipykernel)",
   "language": "python",
   "name": "python3"
  },
  "language_info": {
   "codemirror_mode": {
    "name": "ipython",
    "version": 3
   },
   "file_extension": ".py",
   "mimetype": "text/x-python",
   "name": "python",
   "nbconvert_exporter": "python",
   "pygments_lexer": "ipython3",
   "version": "3.9.7"
  }
 },
 "nbformat": 4,
 "nbformat_minor": 2
}
