{
 "cells": [
  {
   "cell_type": "markdown",
   "metadata": {},
   "source": [
    "1. The MickeyMouse problem\n",
    "\n",
    "a) Write a program that prints the numbers from 1 to 100. But for multiples of 3 print `Mickey` instead of the corresponding number and for the multiples of 5 print `Mouse`. For numbers which are multiples of both three and five print `MickeyMouse`\n",
    "\n",
    "b) Put the result in a tuple and substitute `Mickey` with `Donald` and `Mouse` with `Duck`"
   ]
  },
  {
   "cell_type": "code",
   "execution_count": 148,
   "metadata": {},
   "outputs": [],
   "source": [
    "def mickey_function(name1,name2):\n",
    "    lista=[0]*101\n",
    "    for i in range(0,101):\n",
    "        if i%3==0 and i%5==0:\n",
    "            lista[i]=name1+name2\n",
    "        elif i%3==0:\n",
    "            lista[i]=name1\n",
    "        elif i%5==0:\n",
    "            lista[i]=name2\n",
    "        else:\n",
    "            lista[i]=i\n",
    "    return lista"
   ]
  },
  {
   "cell_type": "code",
   "execution_count": 149,
   "metadata": {},
   "outputs": [],
   "source": [
    "Mickey_tuple=(*mickey_function(\"Mickey\",\"Mouse\"),)"
   ]
  },
  {
   "cell_type": "code",
   "execution_count": 150,
   "metadata": {
    "scrolled": true
   },
   "outputs": [],
   "source": [
    "Donald_tuple=(*mickey_function(\"Donald\",\"Duck\"),)"
   ]
  },
  {
   "cell_type": "code",
   "execution_count": 151,
   "metadata": {},
   "outputs": [
    {
     "name": "stdout",
     "output_type": "stream",
     "text": [
      "('MickeyMouse', 1, 2, 'Mickey', 4, 'Mouse', 'Mickey', 7, 8, 'Mickey', 'Mouse', 11, 'Mickey', 13, 14, 'MickeyMouse', 16, 17, 'Mickey', 19, 'Mouse', 'Mickey', 22, 23, 'Mickey', 'Mouse', 26, 'Mickey', 28, 29, 'MickeyMouse', 31, 32, 'Mickey', 34, 'Mouse', 'Mickey', 37, 38, 'Mickey', 'Mouse', 41, 'Mickey', 43, 44, 'MickeyMouse', 46, 47, 'Mickey', 49, 'Mouse', 'Mickey', 52, 53, 'Mickey', 'Mouse', 56, 'Mickey', 58, 59, 'MickeyMouse', 61, 62, 'Mickey', 64, 'Mouse', 'Mickey', 67, 68, 'Mickey', 'Mouse', 71, 'Mickey', 73, 74, 'MickeyMouse', 76, 77, 'Mickey', 79, 'Mouse', 'Mickey', 82, 83, 'Mickey', 'Mouse', 86, 'Mickey', 88, 89, 'MickeyMouse', 91, 92, 'Mickey', 94, 'Mouse', 'Mickey', 97, 98, 'Mickey', 'Mouse')\n",
      "('DonaldDuck', 1, 2, 'Donald', 4, 'Duck', 'Donald', 7, 8, 'Donald', 'Duck', 11, 'Donald', 13, 14, 'DonaldDuck', 16, 17, 'Donald', 19, 'Duck', 'Donald', 22, 23, 'Donald', 'Duck', 26, 'Donald', 28, 29, 'DonaldDuck', 31, 32, 'Donald', 34, 'Duck', 'Donald', 37, 38, 'Donald', 'Duck', 41, 'Donald', 43, 44, 'DonaldDuck', 46, 47, 'Donald', 49, 'Duck', 'Donald', 52, 53, 'Donald', 'Duck', 56, 'Donald', 58, 59, 'DonaldDuck', 61, 62, 'Donald', 64, 'Duck', 'Donald', 67, 68, 'Donald', 'Duck', 71, 'Donald', 73, 74, 'DonaldDuck', 76, 77, 'Donald', 79, 'Duck', 'Donald', 82, 83, 'Donald', 'Duck', 86, 'Donald', 88, 89, 'DonaldDuck', 91, 92, 'Donald', 94, 'Duck', 'Donald', 97, 98, 'Donald', 'Duck')\n"
     ]
    }
   ],
   "source": [
    "print(Mickey_tuple)\n",
    "print(Donald_tuple)"
   ]
  },
  {
   "cell_type": "markdown",
   "metadata": {},
   "source": [
    "2\\. The swap function\n",
    "\n",
    "Write a function that swap the values of two input variables x and y (whatever the type). Try to do that also without a temporary variable"
   ]
  },
  {
   "cell_type": "code",
   "execution_count": 50,
   "metadata": {},
   "outputs": [],
   "source": [
    "def swap_function(x,y):\n",
    "    lista=(x,y)\n",
    "    y=lista[0]\n",
    "    x=lista[1]\n",
    "    return x,y"
   ]
  },
  {
   "cell_type": "code",
   "execution_count": 54,
   "metadata": {},
   "outputs": [
    {
     "data": {
      "text/plain": [
       "('b', 'a')"
      ]
     },
     "execution_count": 54,
     "metadata": {},
     "output_type": "execute_result"
    }
   ],
   "source": [
    "swap_function(\"a\",\"b\")"
   ]
  },
  {
   "cell_type": "markdown",
   "metadata": {},
   "source": [
    "3\\. Computing the distance\n",
    "\n",
    "Write a function that calculates and returns the euclidean distance between two points *u* and *v*, where *u* and *v* are both 2-tuples *(x,y)*. For example, if *u=(3,0)* and *v=(0,4)*, the function should return 5"
   ]
  },
  {
   "cell_type": "code",
   "execution_count": 2,
   "metadata": {},
   "outputs": [],
   "source": [
    "def comp_distance(u,v):\n",
    "    distance=((u[0]-v[0])**2+(u[1]-v[1])**2)**(1/2)\n",
    "    return distance"
   ]
  },
  {
   "cell_type": "code",
   "execution_count": 3,
   "metadata": {},
   "outputs": [
    {
     "data": {
      "text/plain": [
       "5.0"
      ]
     },
     "execution_count": 3,
     "metadata": {},
     "output_type": "execute_result"
    }
   ],
   "source": [
    "u=(3,0)\n",
    "v=(0,4)\n",
    "comp_distance(u,v)"
   ]
  },
  {
   "cell_type": "markdown",
   "metadata": {},
   "source": [
    "4\\. Counting letters\n",
    "\n",
    "Write a program to calculate the number of times each character occurs in a given string *s*. Ignore differneces in capitalization"
   ]
  },
  {
   "cell_type": "code",
   "execution_count": 19,
   "metadata": {},
   "outputs": [],
   "source": [
    "s=\"Write a program that prints the numbers from 1 to 100. \\\n",
    "But for multiples of three print Mickey instead of the number and for the multiples of five print Mouse. \\\n",
    "For numbers which are multiples of both three and five print MickeyMouse\""
   ]
  },
  {
   "cell_type": "code",
   "execution_count": 99,
   "metadata": {},
   "outputs": [],
   "source": [
    "def counting_letters(s):\n",
    "    S=s.upper()\n",
    "    characters=[i for i in S]\n",
    "    check_list=[]\n",
    "    repetitions=[]\n",
    "    for i in S:\n",
    "        if i not in check_list:\n",
    "            number=str(S.count(i))\n",
    "            check_list.append(i)\n",
    "            repetitions.append(i+\" appears \"+number+\" times \")\n",
    "    return repetitions\n",
    "            \n",
    "        "
   ]
  },
  {
   "cell_type": "code",
   "execution_count": 100,
   "metadata": {
    "scrolled": false
   },
   "outputs": [
    {
     "data": {
      "text/plain": [
       "['W appears 2 times ',\n",
       " 'R appears 17 times ',\n",
       " 'I appears 14 times ',\n",
       " 'T appears 19 times ',\n",
       " 'E appears 22 times ',\n",
       " '  appears 41 times ',\n",
       " 'A appears 7 times ',\n",
       " 'P appears 8 times ',\n",
       " 'O appears 13 times ',\n",
       " 'G appears 1 times ',\n",
       " 'M appears 12 times ',\n",
       " 'H appears 9 times ',\n",
       " 'N appears 10 times ',\n",
       " 'S appears 9 times ',\n",
       " 'U appears 9 times ',\n",
       " 'B appears 5 times ',\n",
       " 'F appears 10 times ',\n",
       " '1 appears 2 times ',\n",
       " '0 appears 2 times ',\n",
       " '. appears 2 times ',\n",
       " 'L appears 6 times ',\n",
       " 'C appears 3 times ',\n",
       " 'K appears 2 times ',\n",
       " 'Y appears 2 times ',\n",
       " 'D appears 3 times ',\n",
       " 'V appears 2 times ']"
      ]
     },
     "execution_count": 100,
     "metadata": {},
     "output_type": "execute_result"
    }
   ],
   "source": [
    "counting_letters(s)"
   ]
  },
  {
   "cell_type": "markdown",
   "metadata": {},
   "source": [
    "5\\. Isolating the unique\n",
    "\n",
    "Write a function that determines and count the unique numbers in the list *l*"
   ]
  },
  {
   "cell_type": "code",
   "execution_count": 101,
   "metadata": {},
   "outputs": [],
   "source": [
    "l = [36, 45, 58, 3, 74, 96, 64, 45, 31, 10, 24, 19, 33, 86, 99, 18, 63, 70, 85,\n",
    " 85, 63, 47, 56, 42, 70, 84, 88, 55, 20, 54, 8, 56, 51, 79, 81, 57, 37, 91,\n",
    " 1, 84, 84, 36, 66, 9, 89, 50, 42, 91, 50, 95, 90, 98, 39, 16, 82, 31, 92, 41,\n",
    " 45, 30, 66, 70, 34, 85, 94, 5, 3, 36, 72, 91, 84, 34, 87, 75, 53, 51, 20, 89, 51, 20]"
   ]
  },
  {
   "cell_type": "code",
   "execution_count": 102,
   "metadata": {},
   "outputs": [],
   "source": [
    "def find_unique(l):\n",
    "    unique=[]\n",
    "    for i in l:\n",
    "        if l.count(i)==1:\n",
    "            unique.append(i)\n",
    "    return unique, len(unique)\n",
    "               "
   ]
  },
  {
   "cell_type": "code",
   "execution_count": 105,
   "metadata": {
    "scrolled": true
   },
   "outputs": [
    {
     "data": {
      "text/plain": [
       "([58,\n",
       "  74,\n",
       "  96,\n",
       "  64,\n",
       "  10,\n",
       "  24,\n",
       "  19,\n",
       "  33,\n",
       "  86,\n",
       "  99,\n",
       "  18,\n",
       "  47,\n",
       "  88,\n",
       "  55,\n",
       "  54,\n",
       "  8,\n",
       "  79,\n",
       "  81,\n",
       "  57,\n",
       "  37,\n",
       "  1,\n",
       "  9,\n",
       "  95,\n",
       "  90,\n",
       "  98,\n",
       "  39,\n",
       "  16,\n",
       "  82,\n",
       "  92,\n",
       "  41,\n",
       "  30,\n",
       "  94,\n",
       "  5,\n",
       "  72,\n",
       "  87,\n",
       "  75,\n",
       "  53],\n",
       " 37)"
      ]
     },
     "execution_count": 105,
     "metadata": {},
     "output_type": "execute_result"
    }
   ],
   "source": [
    "find_unique(l)\n"
   ]
  },
  {
   "cell_type": "markdown",
   "metadata": {},
   "source": [
    "6\\. Combination of functions\n",
    "\n",
    "Write two functions - one that returns the square of a number, and one that returns the cube. Now write a third function that returns the number raised to the 6th power using the two previous functions."
   ]
  },
  {
   "cell_type": "code",
   "execution_count": 106,
   "metadata": {},
   "outputs": [],
   "source": [
    "def function1(x):\n",
    "    return x**2"
   ]
  },
  {
   "cell_type": "code",
   "execution_count": 107,
   "metadata": {},
   "outputs": [],
   "source": [
    "def function2(x):\n",
    "    return x**3"
   ]
  },
  {
   "cell_type": "code",
   "execution_count": 108,
   "metadata": {},
   "outputs": [
    {
     "data": {
      "text/plain": [
       "64"
      ]
     },
     "execution_count": 108,
     "metadata": {},
     "output_type": "execute_result"
    }
   ],
   "source": [
    "function1(function2(2))"
   ]
  },
  {
   "cell_type": "markdown",
   "metadata": {},
   "source": [
    "7\\. Cubes\n",
    "\n",
    "Create a list of the cubes of x for x in *[0, 10]* using:\n",
    "\n",
    "a) a for loop\n",
    "\n",
    "b) a list comprehension"
   ]
  },
  {
   "cell_type": "code",
   "execution_count": 152,
   "metadata": {},
   "outputs": [],
   "source": [
    "def cubes1():\n",
    "    cubes=[0]*10\n",
    "    for i in range(1,11):\n",
    "        cubes[i-1]=i**3\n",
    "    return cubes\n",
    "    "
   ]
  },
  {
   "cell_type": "code",
   "execution_count": 153,
   "metadata": {},
   "outputs": [],
   "source": [
    "def cubes2():\n",
    "    cubes=[x**3 for x in range(1,11)]\n",
    "    return cubes"
   ]
  },
  {
   "cell_type": "code",
   "execution_count": 154,
   "metadata": {},
   "outputs": [
    {
     "data": {
      "text/plain": [
       "([1, 8, 27, 64, 125, 216, 343, 512, 729, 1000],\n",
       " [1, 8, 27, 64, 125, 216, 343, 512, 729, 1000])"
      ]
     },
     "execution_count": 154,
     "metadata": {},
     "output_type": "execute_result"
    }
   ],
   "source": [
    "cubes1(),cubes2()"
   ]
  },
  {
   "cell_type": "markdown",
   "metadata": {},
   "source": [
    "8\\. Nested list comprehension\n",
    "\n",
    "A Pythagorean triple is an integer solution to the Pythagorean theorem $a^2+b^2=c^2$. The first Pythagorean triple is (3,4,5). Find and put in a tuple all unique Pythagorean triples for the positive integers a, b and c less than 100."
   ]
  },
  {
   "cell_type": "code",
   "execution_count": 171,
   "metadata": {},
   "outputs": [],
   "source": [
    "def pyth_triple():\n",
    "    triple=[]\n",
    "    for a in range(1,100):\n",
    "        for b in range(a,100):\n",
    "            c2=a**2+b**2\n",
    "            c=c2**(1/2)\n",
    "            if c%1==0 and c<=100:\n",
    "                triple.append(str(a)+\" \"+str(b)+\" \"+str(int(c)))\n",
    "    return (*triple,)\n",
    "    "
   ]
  },
  {
   "cell_type": "code",
   "execution_count": 172,
   "metadata": {
    "scrolled": true
   },
   "outputs": [
    {
     "data": {
      "text/plain": [
       "('3 4 5',\n",
       " '5 12 13',\n",
       " '6 8 10',\n",
       " '7 24 25',\n",
       " '8 15 17',\n",
       " '9 12 15',\n",
       " '9 40 41',\n",
       " '10 24 26',\n",
       " '11 60 61',\n",
       " '12 16 20',\n",
       " '12 35 37',\n",
       " '13 84 85',\n",
       " '14 48 50',\n",
       " '15 20 25',\n",
       " '15 36 39',\n",
       " '16 30 34',\n",
       " '16 63 65',\n",
       " '18 24 30',\n",
       " '18 80 82',\n",
       " '20 21 29',\n",
       " '20 48 52',\n",
       " '21 28 35',\n",
       " '21 72 75',\n",
       " '24 32 40',\n",
       " '24 45 51',\n",
       " '24 70 74',\n",
       " '25 60 65',\n",
       " '27 36 45',\n",
       " '28 45 53',\n",
       " '28 96 100',\n",
       " '30 40 50',\n",
       " '30 72 78',\n",
       " '32 60 68',\n",
       " '33 44 55',\n",
       " '33 56 65',\n",
       " '35 84 91',\n",
       " '36 48 60',\n",
       " '36 77 85',\n",
       " '39 52 65',\n",
       " '39 80 89',\n",
       " '40 42 58',\n",
       " '40 75 85',\n",
       " '42 56 70',\n",
       " '45 60 75',\n",
       " '48 55 73',\n",
       " '48 64 80',\n",
       " '51 68 85',\n",
       " '54 72 90',\n",
       " '57 76 95',\n",
       " '60 63 87',\n",
       " '60 80 100',\n",
       " '65 72 97')"
      ]
     },
     "execution_count": 172,
     "metadata": {},
     "output_type": "execute_result"
    }
   ],
   "source": [
    "pyth_triple()"
   ]
  },
  {
   "cell_type": "markdown",
   "metadata": {},
   "source": [
    "9\\. Normalization\n",
    "\n",
    "Write a function that takes a tuple of numbers and returns it with the entries normalized to one"
   ]
  },
  {
   "cell_type": "code",
   "execution_count": 183,
   "metadata": {},
   "outputs": [],
   "source": [
    "import numpy as np"
   ]
  },
  {
   "cell_type": "code",
   "execution_count": 189,
   "metadata": {},
   "outputs": [],
   "source": [
    "def normalize(a):\n",
    "    array=np.asarray(a)\n",
    "    lista=[0]*len(a)\n",
    "    for i in range(0,len(a)):\n",
    "        lista[i]=i**2\n",
    "    coefficient=1/sum(lista)\n",
    "    return tuple(coefficient*array)\n",
    "        "
   ]
  },
  {
   "cell_type": "code",
   "execution_count": 190,
   "metadata": {},
   "outputs": [
    {
     "data": {
      "text/plain": [
       "(0.03333333333333333,\n",
       " 0.16666666666666666,\n",
       " 0.2,\n",
       " 0.26666666666666666,\n",
       " 0.06666666666666667)"
      ]
     },
     "execution_count": 190,
     "metadata": {},
     "output_type": "execute_result"
    }
   ],
   "source": [
    "a=[1,5,6,8,2]\n",
    "normalize(a)"
   ]
  },
  {
   "cell_type": "code",
   "execution_count": null,
   "metadata": {},
   "outputs": [],
   "source": []
  }
 ],
 "metadata": {
  "kernelspec": {
   "display_name": "Python 3",
   "language": "python",
   "name": "python3"
  },
  "language_info": {
   "codemirror_mode": {
    "name": "ipython",
    "version": 3
   },
   "file_extension": ".py",
   "mimetype": "text/x-python",
   "name": "python",
   "nbconvert_exporter": "python",
   "pygments_lexer": "ipython3",
   "version": "3.6.8"
  }
 },
 "nbformat": 4,
 "nbformat_minor": 2
}
