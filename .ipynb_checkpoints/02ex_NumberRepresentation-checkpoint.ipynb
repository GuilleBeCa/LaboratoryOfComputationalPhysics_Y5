{
 "cells": [
  {
   "cell_type": "markdown",
   "metadata": {},
   "source": [
    "1\\. Write a function that converts number representation, bin<->dec<->hex. (Clearly using the corresponding python built-in functions is not fair..)"
   ]
  },
  {
   "cell_type": "code",
   "execution_count": 1,
   "metadata": {},
   "outputs": [],
   "source": [
    "import math\n",
    "\n",
    "def bindechex(num_str,rep):\n",
    "    if num_str=='0':\n",
    "        print('dec:0','hex:0','bin:0')\n",
    "        \n",
    "    #input is a dec    \n",
    "    \n",
    "    elif rep=='dec':\n",
    "        \n",
    "        #calculate the value of the input string in a decimal number\n",
    "        \n",
    "        dec_value=0\n",
    "        \n",
    "        for i in range(len(num_str)):\n",
    "    \n",
    "            dec_value=int(num_str[i])*10**(len(num_str)-1-i)+dec_value\n",
    "        \n",
    "        save_number=dec_value\n",
    "        #convert to bin\n",
    "        bin_num=''\n",
    "        n=[]\n",
    "        \n",
    "        while dec_value!=0:\n",
    "            a=math.log2(dec_value)//1\n",
    "            n.append(a)\n",
    "            dec_value=dec_value-2**a\n",
    "        \n",
    "        bin_list=[]\n",
    "        for i in range(int(max(n)),-1,-1):\n",
    "            bin_list.append(n.count(i))\n",
    "\n",
    "        for i in bin_list:\n",
    "            bin_num=bin_num+str(i)\n",
    "           \n",
    "        #convert to hex\n",
    "        dec_value=save_number\n",
    "\n",
    "        hex_num=''\n",
    "        n=[]\n",
    "        \n",
    "        while dec_value!=0:\n",
    "    \n",
    "            a=math.log(dec_value,16)//1\n",
    "            n.append(a)\n",
    "            dec_value=dec_value-16**a\n",
    "\n",
    "\n",
    "        hex_list=[]\n",
    "        for i in range(int(max(n)),-1,-1):\n",
    "            hex_list.append(n.count(i))\n",
    "        \n",
    "        for i in hex_list:\n",
    "            if i==10:\n",
    "                i='A'\n",
    "            elif i==11:\n",
    "                i='B'\n",
    "            elif i==12:\n",
    "                i='C'\n",
    "            elif i==13:\n",
    "                i='D'\n",
    "            elif i==14:\n",
    "                i='E'\n",
    "            elif i==15:\n",
    "                i='F'\n",
    "            else:\n",
    "                i=str(i)\n",
    "                        \n",
    "            hex_num=hex_num+i\n",
    "            \n",
    "        print('dec:'+num_str,'hex:'+hex_num,'bin:'+bin_num)\n",
    "    \n",
    "    #inpunt is a hex\n",
    "    \n",
    "    elif rep=='hex':\n",
    "\n",
    "        #calculate the value of the input string in a decimal number\n",
    "        dec_value=0\n",
    "        num_str_1=[]\n",
    "        for i in num_str:\n",
    "            \n",
    "            if i=='A':\n",
    "                i=10\n",
    "            elif i=='B':\n",
    "                i=11\n",
    "            elif i=='C':\n",
    "                i=12\n",
    "            elif i=='D':\n",
    "                i=13\n",
    "            elif i=='E':\n",
    "                i=14\n",
    "            elif i=='F':\n",
    "                i=15\n",
    "            else:\n",
    "                i=int(i)\n",
    "            num_str_1.append(i)\n",
    "        \n",
    "        for i in range(len(num_str_1)):\n",
    "    \n",
    "            dec_value=int(num_str_1[i])*16**(len(num_str_1)-1-i)+dec_value\n",
    "        \n",
    "        save_number=dec_value\n",
    "        \n",
    "        #convert to bin\n",
    "        bin_num=''\n",
    "        n=[]\n",
    "        \n",
    "        while dec_value!=0:\n",
    "            a=math.log2(dec_value)//1\n",
    "            n.append(a)\n",
    "            dec_value=dec_value-2**a\n",
    "\n",
    "        bin_list=[]\n",
    "        for i in range(int(max(n)),-1,-1):\n",
    "            bin_list.append(n.count(i))\n",
    "\n",
    "        for i in bin_list:\n",
    "            bin_num=bin_num+str(i)\n",
    "           \n",
    "        #convert to dec\n",
    "        \n",
    "        dec_value=save_number\n",
    "        dec_num=''\n",
    "        n=[]\n",
    "        \n",
    "        while dec_value!=0:\n",
    "            a=math.log(dec_value,10)//1\n",
    "            n.append(a)\n",
    "            dec_value=dec_value-10**a\n",
    "\n",
    "        dec_list=[]\n",
    "        for i in range(int(max(n)),-1,-1):\n",
    "            dec_list.append(n.count(i))\n",
    "\n",
    "        for i in dec_list:\n",
    "            dec_num=dec_num+str(i)\n",
    "            \n",
    "        print('dec:'+dec_num,'hex:'+num_str,'bin:'+bin_num)\n",
    "    \n",
    "    #input is a bin\n",
    "    \n",
    "    elif rep=='bin':\n",
    "        #calculate the value of the input string in a decimal number\n",
    "        dec_value=0\n",
    "        \n",
    "        for i in range(len(num_str)):\n",
    "    \n",
    "            dec_value=int(num_str[i])*2**(len(num_str)-1-i)+dec_value\n",
    "        \n",
    "        save_number=dec_value\n",
    "        \n",
    "        #convert to hex\n",
    "        hex_num=''\n",
    "        n=[]\n",
    "        \n",
    "        while dec_value!=0:\n",
    "            a=math.log(dec_value,16)//1\n",
    "            n.append(a)\n",
    "            dec_value=dec_value-16**a\n",
    "\n",
    "        hex_list=[]\n",
    "        for i in range(int(max(n)),-1,-1):\n",
    "            hex_list.append(n.count(i))\n",
    "    \n",
    "        for i in hex_list:\n",
    "            if i==10:\n",
    "                i='A'\n",
    "            elif i==11:\n",
    "                i='B'\n",
    "            elif i==12:\n",
    "                i='C'\n",
    "            elif i==13:\n",
    "                i='D'\n",
    "            elif i==14:\n",
    "                i='E'\n",
    "            elif i==15:\n",
    "                i='F'\n",
    "            else:\n",
    "                i=str(i)\n",
    "                        \n",
    "            hex_num=hex_num+i\n",
    "           \n",
    "        #convert to dec\n",
    "        \n",
    "        dec_value=save_number\n",
    "        dec_num=''\n",
    "        n=[]\n",
    "        \n",
    "        while dec_value!=0:\n",
    "            a=math.log10(dec_value)//1\n",
    "            n.append(a)\n",
    "            dec_value=dec_value-10**a\n",
    "\n",
    "        dec_list=[]\n",
    "        for i in range(int(max(n)),-1,-1):\n",
    "            dec_list.append(n.count(i))\n",
    "\n",
    "        for i in dec_list:\n",
    "            dec_num=dec_num+str(i)\n",
    "            \n",
    "        print('dec:'+dec_num,'hex:'+hex_num,'bin:'+num_str)\n",
    "            \n",
    "    else:\n",
    "        print('Introduce a valid representation(bin, dec or hex) and a valid number(must be a string)')\n",
    "    "
   ]
  },
  {
   "cell_type": "code",
   "execution_count": null,
   "metadata": {},
   "outputs": [],
   "source": []
  },
  {
   "cell_type": "code",
   "execution_count": 2,
   "metadata": {
    "scrolled": true
   },
   "outputs": [
    {
     "name": "stdout",
     "output_type": "stream",
     "text": [
      "dec:6723 hex:1A43 bin:1101001000011\n",
      "dec:6723 hex:1A43 bin:1101001000011\n",
      "dec:6723 hex:1A43 bin:1101001000011\n"
     ]
    }
   ],
   "source": [
    "bindechex('6723','dec')\n",
    "bindechex('1101001000011','bin')\n",
    "bindechex('1A43','hex')"
   ]
  },
  {
   "cell_type": "code",
   "execution_count": null,
   "metadata": {},
   "outputs": [],
   "source": []
  },
  {
   "cell_type": "markdown",
   "metadata": {},
   "source": [
    "2\\. Write a function that converts a 32 bit word into a single precision floating point (i.e. interprets the various bits as sign, mantissa and exponent)"
   ]
  },
  {
   "cell_type": "code",
   "execution_count": 3,
   "metadata": {},
   "outputs": [],
   "source": [
    "def conv_floating_point(word):\n",
    "    \n",
    "    #sign\n",
    "\n",
    "    if word[0]=='0':\n",
    "        sign=1\n",
    "    elif word[0]=='1':\n",
    "        sign=-1\n",
    "    else:\n",
    "        print('error')\n",
    "    #exponent\n",
    "    bias=127\n",
    "    e=int(word[1:9],2)\n",
    "    exp=2**(e-bias)\n",
    "\n",
    "    #mantissa\n",
    "    f=word[9:32]\n",
    "    mant=1\n",
    "    for i in range(len(f)):\n",
    "        mant=mant+float(f[i])*2**(-1*float(i+1))\n",
    "    return(sign*exp*mant)"
   ]
  },
  {
   "cell_type": "code",
   "execution_count": 4,
   "metadata": {},
   "outputs": [
    {
     "data": {
      "text/plain": [
       "-1.316553672920962e-36"
      ]
     },
     "execution_count": 4,
     "metadata": {},
     "output_type": "execute_result"
    }
   ],
   "source": [
    "conv_floating_point('10000011111000000000000000000000')"
   ]
  },
  {
   "cell_type": "code",
   "execution_count": null,
   "metadata": {},
   "outputs": [],
   "source": []
  },
  {
   "cell_type": "markdown",
   "metadata": {},
   "source": [
    "3\\. Write a program to determine the underflow and overflow limits (within a factor of 2) for python on your computer. \n",
    "\n",
    "**Tips**: define two variables inizialized to 1 and halve/double them enough time to exceed the under/over-flow limits  "
   ]
  },
  {
   "cell_type": "code",
   "execution_count": 5,
   "metadata": {},
   "outputs": [
    {
     "data": {
      "text/plain": [
       "5e-324"
      ]
     },
     "execution_count": 5,
     "metadata": {},
     "output_type": "execute_result"
    }
   ],
   "source": [
    "#under-flow\n",
    "a=1\n",
    "while a>0:\n",
    "    b=a\n",
    "    a=a/2\n",
    "    \n",
    "b\n"
   ]
  },
  {
   "cell_type": "code",
   "execution_count": 9,
   "metadata": {
    "scrolled": true
   },
   "outputs": [
    {
     "data": {
      "text/plain": [
       "8.98846567431158e+307"
      ]
     },
     "execution_count": 9,
     "metadata": {},
     "output_type": "execute_result"
    }
   ],
   "source": [
    "#over-flow (takes to long)\n",
    "a=1.0\n",
    "b=1/2\n",
    "while a/2==b:\n",
    "    b=a\n",
    "    a=a*2\n",
    "b"
   ]
  },
  {
   "cell_type": "code",
   "execution_count": null,
   "metadata": {},
   "outputs": [],
   "source": []
  },
  {
   "cell_type": "markdown",
   "metadata": {},
   "source": [
    "4\\. Write a program to determine the machine precision\n",
    "\n",
    "**Tips**: define a new variable by adding a smaller and smaller value (proceeding similarly to prob. 2) to an original variable and check the point where the two are the same "
   ]
  },
  {
   "cell_type": "code",
   "execution_count": 12,
   "metadata": {},
   "outputs": [
    {
     "data": {
      "text/plain": [
       "-2.220446049250313e-16"
      ]
     },
     "execution_count": 12,
     "metadata": {},
     "output_type": "execute_result"
    }
   ],
   "source": [
    "a=1\n",
    "dif=1\n",
    "i=1\n",
    "while dif!=0:\n",
    "    b=a+1/i\n",
    "    precision=dif\n",
    "    dif=a-b\n",
    "    i=i*2\n",
    "precision"
   ]
  },
  {
   "cell_type": "markdown",
   "metadata": {},
   "source": [
    "5\\. Write a function that takes in input three parameters $a$, $b$ and $c$ and prints out the two solutions to the quadratic equation $ax^2+bx+c=0$ using the standard formula:\n",
    "$$\n",
    "x=\\frac{-b\\pm\\sqrt{b^2-4ac}}{2a}\n",
    "$$\n",
    "\n",
    "(a) use the program to compute the solution for $a=0.001$, $b=1000$ and $c=0.001$\n",
    "\n",
    "(b) re-express the standard solution formula by multiplying top and bottom by $-b\\mp\\sqrt{b^2-4ac}$ and again find the solution for $a=0.001$, $b=1000$ and $c=0.001$. How does it compare with what previously obtained? Why?\n",
    "\n",
    "(c) write a function that compute the roots of a quadratic equation accurately in all cases"
   ]
  },
  {
   "cell_type": "code",
   "execution_count": 10,
   "metadata": {},
   "outputs": [],
   "source": [
    "#a)\n",
    "def quadratic_sol(a,b,c):\n",
    "    x1=(-b+(b**2-4*a*c)**(1/2))/(2*a)\n",
    "    x2=(-b-(b**2-4*a*c)**(1/2))/(2*a)\n",
    "    return(x1,x2)"
   ]
  },
  {
   "cell_type": "code",
   "execution_count": 11,
   "metadata": {},
   "outputs": [
    {
     "data": {
      "text/plain": [
       "(-9.999894245993346e-07, -999999.999999)"
      ]
     },
     "execution_count": 11,
     "metadata": {},
     "output_type": "execute_result"
    }
   ],
   "source": [
    "quadratic_sol(0.001,1000,0.001)"
   ]
  },
  {
   "cell_type": "code",
   "execution_count": null,
   "metadata": {},
   "outputs": [],
   "source": []
  },
  {
   "cell_type": "code",
   "execution_count": 12,
   "metadata": {},
   "outputs": [],
   "source": [
    "#b)\n",
    "def quadratic_sol2(a,b,c):\n",
    "    x1=4*a*c/(2*a*(-b-(b**2-4*a*c)**(1/2)))\n",
    "    x2=4*a*c/(2*a*(-b+(b**2-4*a*c)**(1/2)))\n",
    "    return(x1,x2)"
   ]
  },
  {
   "cell_type": "code",
   "execution_count": 13,
   "metadata": {},
   "outputs": [
    {
     "data": {
      "text/plain": [
       "(-1.0000000000009999e-06, -1000010.5755125057)"
      ]
     },
     "execution_count": 13,
     "metadata": {},
     "output_type": "execute_result"
    }
   ],
   "source": [
    "quadratic_sol2(0.001,1000,0.001)"
   ]
  },
  {
   "cell_type": "code",
   "execution_count": null,
   "metadata": {},
   "outputs": [],
   "source": []
  },
  {
   "cell_type": "code",
   "execution_count": 14,
   "metadata": {},
   "outputs": [
    {
     "data": {
      "text/plain": [
       "(-1.0575401665279555e-11, -10.575513505726121)"
      ]
     },
     "execution_count": 14,
     "metadata": {},
     "output_type": "execute_result"
    }
   ],
   "source": [
    "#difference\n",
    "\n",
    "quadratic_sol2(0.001,1000,0.001)[0]-quadratic_sol(0.001,1000,0.001)[0],quadratic_sol2(0.001,1000,0.001)[1]-quadratic_sol(0.001,1000,0.001)[1]"
   ]
  },
  {
   "cell_type": "code",
   "execution_count": null,
   "metadata": {},
   "outputs": [],
   "source": []
  },
  {
   "cell_type": "code",
   "execution_count": 15,
   "metadata": {},
   "outputs": [
    {
     "name": "stdout",
     "output_type": "stream",
     "text": [
      "1.057640064416887e-08\n",
      "998999999998.002\n",
      "9.99000144760731e-13\n",
      "999021140561.3414\n"
     ]
    }
   ],
   "source": [
    "#check which solutions are correct\n",
    "\n",
    "print(quadratic_sol(0.001,1000,0.001)[0]**2+quadratic_sol(0.001,1000,0.001)[0]*1000+0.001)\n",
    "\n",
    "print(quadratic_sol(0.001,1000,0.001)[1]**2+quadratic_sol(0.001,1000,0.001)[1]*1000+0.001)\n",
    "\n",
    "print(quadratic_sol2(0.001,1000,0.001)[0]**2+quadratic_sol2(0.001,1000,0.001)[0]*1000+0.001)\n",
    "\n",
    "print(quadratic_sol2(0.001,1000,0.001)[1]**2+quadratic_sol2(0.001,1000,0.001)[1]*1000+0.001)\n",
    "\n",
    "##only de first solution of each program is correct"
   ]
  },
  {
   "cell_type": "code",
   "execution_count": null,
   "metadata": {},
   "outputs": [],
   "source": []
  },
  {
   "cell_type": "code",
   "execution_count": 16,
   "metadata": {},
   "outputs": [],
   "source": [
    "#c)\n",
    "def quadratic_sol_final(a,b,c):\n",
    "    x1=(-b+(b**2-4*a*c)**(1/2))/(2*a)\n",
    "    x2=4*a*c/(2*a*(-b-(b**2-4*a*c)**(1/2)))\n",
    "    \n",
    "    return(x1,x2)"
   ]
  },
  {
   "cell_type": "code",
   "execution_count": 17,
   "metadata": {},
   "outputs": [
    {
     "data": {
      "text/plain": [
       "(-9.999894245993346e-07, -1.0000000000009999e-06)"
      ]
     },
     "execution_count": 17,
     "metadata": {},
     "output_type": "execute_result"
    }
   ],
   "source": [
    "quadratic_sol_final(0.001,1000,0.001)"
   ]
  },
  {
   "cell_type": "markdown",
   "metadata": {},
   "source": [
    "6\\. Write a program that implements the function $f(x)=x(x−1)$\n",
    "\n",
    "(a) Calculate the derivative of the function at the point $x = 1$ using the derivative definition:\n",
    "\n",
    "$$\n",
    "\\frac{{\\rm d}f}{{\\rm d}x} = \\lim_{\\delta\\to0} \\frac{f(x+\\delta)-f(x)}{\\delta}\n",
    "$$\n",
    "\n",
    "with $\\delta = 10^{−2}$. Calculate the true value of the same derivative analytically and compare with the answer your program gives. The two will not agree perfectly. Why not?\n",
    "\n",
    "(b) Repeat the calculation for $\\delta = 10^{−4}, 10^{−6}, 10^{−8}, 10^{−10}, 10^{−12}$ and $10^{−14}$. How does the accuracy scales with $\\delta$?"
   ]
  },
  {
   "cell_type": "code",
   "execution_count": 18,
   "metadata": {},
   "outputs": [],
   "source": [
    "def derivative(x0,delta):\n",
    "    der=((x0+delta)*(x0+delta-1)-(x0)*(x0-1))/delta\n",
    "    return(der)"
   ]
  },
  {
   "cell_type": "code",
   "execution_count": 19,
   "metadata": {},
   "outputs": [],
   "source": [
    "##analitical derivative\n",
    "a_der=1"
   ]
  },
  {
   "cell_type": "code",
   "execution_count": 20,
   "metadata": {},
   "outputs": [
    {
     "name": "stdout",
     "output_type": "stream",
     "text": [
      "1.100000000000001 -0.10000000000000098\n"
     ]
    }
   ],
   "source": [
    "der=derivative(1,10e-2)\n",
    "print(der,a_der-der)"
   ]
  },
  {
   "cell_type": "code",
   "execution_count": 21,
   "metadata": {},
   "outputs": [
    {
     "name": "stdout",
     "output_type": "stream",
     "text": [
      "1.0000999999998899\n",
      "1.0000009999177333\n",
      "1.0000000039225287\n",
      "1.000000082840371\n",
      "1.0000889005833413\n",
      "0.9992007221626509\n"
     ]
    }
   ],
   "source": [
    "deltas=[10**(-2*i) for i in range(2,8)]\n",
    "\n",
    "for i in deltas:\n",
    "    print(derivative(1,i))"
   ]
  },
  {
   "cell_type": "code",
   "execution_count": 22,
   "metadata": {},
   "outputs": [
    {
     "name": "stdout",
     "output_type": "stream",
     "text": [
      "9.999999988985486e-05\n",
      "9.99917733279787e-07\n",
      "3.922528746258536e-09\n",
      "8.284037100736441e-08\n",
      "8.890058334132256e-05\n",
      "-0.0007992778373491216\n"
     ]
    }
   ],
   "source": [
    "for i in deltas:\n",
    "    print(derivative(1,i)-1)"
   ]
  },
  {
   "cell_type": "code",
   "execution_count": 23,
   "metadata": {},
   "outputs": [],
   "source": [
    "## the accuracy peaks at delta=10e-8."
   ]
  },
  {
   "cell_type": "markdown",
   "metadata": {},
   "source": [
    "7\\. Consider the integral of the semicircle of radius 1:\n",
    "$$\n",
    "I=\\int_{-1}^{1} \\sqrt(1-x^2) {\\rm d}x\n",
    "$$\n",
    "which it's known to be $I=\\frac{\\pi}{2}=1.57079632679...$.\n",
    "Alternatively we can use the Riemann definition of the integral:\n",
    "$$\n",
    "I=\\lim_{N\\to\\infty} \\sum_{k=1}^{N} h y_k \n",
    "$$\n",
    "\n",
    "with $h=2/N$ the width of each of the $N$ slices the domain is divided into and where\n",
    "$y_k$ is the value of the function at the $k-$th slice.\n",
    "\n",
    "(a) Write a programe to compute the integral with $N=100$. How does the result compares to the true value?\n",
    "\n",
    "(b) How much can $N$ be increased if the computation needs to be run in less than a second? What is the gain in running it for 1 minute? \n"
   ]
  },
  {
   "cell_type": "code",
   "execution_count": 1,
   "metadata": {},
   "outputs": [],
   "source": [
    "def riemann(N):\n",
    "    suma=0\n",
    "    x_list=[-1+2*i/N for i in range(N)]\n",
    "    for k in range(N):\n",
    "        suma=suma+2/N*(1-x_list[k]**2)**(1/2)\n",
    "    return suma\n",
    "        "
   ]
  },
  {
   "cell_type": "code",
   "execution_count": 2,
   "metadata": {},
   "outputs": [
    {
     "name": "stdout",
     "output_type": "stream",
     "text": [
      "1.5691342555492505\n",
      "-0.0016620712456461018\n"
     ]
    }
   ],
   "source": [
    "import math\n",
    "\n",
    "N=100\n",
    "print(riemann(N))\n",
    "print(riemann(N)-math.pi/2)"
   ]
  },
  {
   "cell_type": "code",
   "execution_count": 3,
   "metadata": {},
   "outputs": [
    {
     "name": "stdout",
     "output_type": "stream",
     "text": [
      "Time:  1.5167588000003889\n"
     ]
    }
   ],
   "source": [
    "import timeit\n",
    "\n",
    "start = timeit.default_timer()\n",
    "\n",
    "N=3000000\n",
    "fast=riemann(N)\n",
    "\n",
    "stop = timeit.default_timer()\n",
    "\n",
    "print('Time: ', stop - start) "
   ]
  },
  {
   "cell_type": "code",
   "execution_count": 4,
   "metadata": {},
   "outputs": [
    {
     "name": "stdout",
     "output_type": "stream",
     "text": [
      "Time:  53.53361279999808\n"
     ]
    }
   ],
   "source": [
    "import timeit\n",
    "\n",
    "start = timeit.default_timer()\n",
    "\n",
    "N=3000000*40\n",
    "slow=riemann(N)\n",
    "\n",
    "stop = timeit.default_timer()\n",
    "\n",
    "print('Time: ', stop - start) "
   ]
  },
  {
   "cell_type": "code",
   "execution_count": 5,
   "metadata": {},
   "outputs": [
    {
     "name": "stdout",
     "output_type": "stream",
     "text": [
      "1.5707963264747942 1.5707963267936778\n",
      "3.2010238903978916e-10 1.2188028364334969e-12\n"
     ]
    }
   ],
   "source": [
    "print(fast,slow)\n",
    "print(math.pi/2-fast,math.pi/2-slow)"
   ]
  },
  {
   "cell_type": "code",
   "execution_count": null,
   "metadata": {},
   "outputs": [],
   "source": []
  },
  {
   "cell_type": "code",
   "execution_count": null,
   "metadata": {},
   "outputs": [],
   "source": []
  }
 ],
 "metadata": {
  "kernelspec": {
   "display_name": "Python 3 (ipykernel)",
   "language": "python",
   "name": "python3"
  },
  "language_info": {
   "codemirror_mode": {
    "name": "ipython",
    "version": 3
   },
   "file_extension": ".py",
   "mimetype": "text/x-python",
   "name": "python",
   "nbconvert_exporter": "python",
   "pygments_lexer": "ipython3",
   "version": "3.9.7"
  }
 },
 "nbformat": 4,
 "nbformat_minor": 2
}
